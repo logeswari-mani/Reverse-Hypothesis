{
 "cells": [
  {
   "cell_type": "code",
   "execution_count": null,
   "id": "5e61792d",
   "metadata": {},
   "outputs": [],
   "source": [
    "import pandas as pd \n",
    "import numpy as np\n",
    "tooth_paste=pd.read_excel(\"C:/Users/Welcome/Desktop/anaconda/Reverse Hypothesis.xlsx\")\n",
    "tooth_paste.head(11)\n",
    " \n",
    "from scipy import stats\n",
    "stats.shapiro(tooth_paste.Bachelors) \n",
    "stats.shapiro(tooth_paste.Family)\n",
    "stats.ttest_ind(tooth_paste.Bachelors,tooth_paste.Family)\n",
    "stats.ttest_ind(tooth_paste.Bachelors,tooth_paste.Family)\n"
   ]
  },
  {
   "cell_type": "code",
   "execution_count": null,
   "id": "f7deb6b7",
   "metadata": {},
   "outputs": [],
   "source": []
  }
 ],
 "metadata": {
  "kernelspec": {
   "display_name": "Python 3 (ipykernel)",
   "language": "python",
   "name": "python3"
  }
 },
 "nbformat": 4,
 "nbformat_minor": 5
}
